{
 "cells": [
  {
   "cell_type": "code",
   "execution_count": 1,
   "metadata": {
    "colab": {
     "base_uri": "https://localhost:8080/",
     "height": 122
    },
    "colab_type": "code",
    "collapsed": true,
    "executionInfo": {
     "elapsed": 26880,
     "status": "ok",
     "timestamp": 1577682336772,
     "user": {
      "displayName": "Thomas K John",
      "photoUrl": "",
      "userId": "10832060721107655920"
     },
     "user_tz": -330
    },
    "id": "izDanZ1XC_44",
    "outputId": "06816366-3ab5-4f63-9b89-be8f9a0e1e72"
   },
   "outputs": [
    {
     "name": "stdout",
     "output_type": "stream",
     "text": [
      "Go to this URL in a browser: https://accounts.google.com/o/oauth2/auth?client_id=947318989803-6bn6qk8qdgf4n4g3pfee6491hc0brc4i.apps.googleusercontent.com&redirect_uri=urn%3aietf%3awg%3aoauth%3a2.0%3aoob&response_type=code&scope=email%20https%3a%2f%2fwww.googleapis.com%2fauth%2fdocs.test%20https%3a%2f%2fwww.googleapis.com%2fauth%2fdrive%20https%3a%2f%2fwww.googleapis.com%2fauth%2fdrive.photos.readonly%20https%3a%2f%2fwww.googleapis.com%2fauth%2fpeopleapi.readonly\n",
      "\n",
      "Enter your authorization code:\n",
      "··········\n",
      "Mounted at /content/drive/\n"
     ]
    }
   ],
   "source": [
    "from google.colab import drive\n",
    "drive.mount('/content/drive/')"
   ]
  },
  {
   "cell_type": "markdown",
   "metadata": {
    "colab_type": "text",
    "id": "91JQUYm6C74Q"
   },
   "source": [
    "#### Configure Spark Environment\n",
    "Configure environment variables, Make sure you provide the correct Spark installation path/location."
   ]
  },
  {
   "cell_type": "code",
   "execution_count": 0,
   "metadata": {
    "colab": {},
    "colab_type": "code",
    "id": "9XH3bvEpCE2x"
   },
   "outputs": [],
   "source": [
    "!apt-get install openjdk-8-jdk-headless -qq > /dev/null\n",
    "!wget -q https://archive.apache.org/dist/spark/spark-2.3.1/spark-2.3.1-bin-hadoop2.7.tgz\n",
    "!tar xf spark-2.3.1-bin-hadoop2.7.tgz\n",
    "\n",
    "!pip install -q findspark"
   ]
  },
  {
   "cell_type": "code",
   "execution_count": 0,
   "metadata": {
    "colab": {},
    "colab_type": "code",
    "id": "h2_QbN3nCCD4"
   },
   "outputs": [],
   "source": [
    "import os\n",
    "os.environ[\"JAVA_HOME\"] = \"/usr/lib/jvm/java-8-openjdk-amd64\"\n",
    "os.environ[\"SPARK_HOME\"] = \"/content/spark-2.3.1-bin-hadoop2.7\""
   ]
  },
  {
   "cell_type": "code",
   "execution_count": 0,
   "metadata": {
    "colab": {},
    "colab_type": "code",
    "id": "TMY-tvW5irCz"
   },
   "outputs": [],
   "source": [
    "import findspark\n",
    "findspark.init()\n",
    "\n",
    "from pyspark.sql import SparkSession\n",
    "\n",
    "spark = SparkSession \\\n",
    "      .builder \\\n",
    "      .appName(\"Universal Bank Data Set\") \\\n",
    "      .master('local[*]') \\\n",
    "      .getOrCreate()"
   ]
  },
  {
   "cell_type": "code",
   "execution_count": 5,
   "metadata": {
    "colab": {
     "base_uri": "https://localhost:8080/",
     "height": 216
    },
    "colab_type": "code",
    "executionInfo": {
     "elapsed": 40742,
     "status": "ok",
     "timestamp": 1577682385661,
     "user": {
      "displayName": "Thomas K John",
      "photoUrl": "",
      "userId": "10832060721107655920"
     },
     "user_tz": -330
    },
    "id": "ZzpUREx_irC2",
    "outputId": "d5a8635f-cf20-4853-d3e0-ea7c681a5666"
   },
   "outputs": [
    {
     "data": {
      "text/html": [
       "\n",
       "            <div>\n",
       "                <p><b>SparkSession - in-memory</b></p>\n",
       "                \n",
       "        <div>\n",
       "            <p><b>SparkContext</b></p>\n",
       "\n",
       "            <p><a href=\"http://620b1f675900:4040\">Spark UI</a></p>\n",
       "\n",
       "            <dl>\n",
       "              <dt>Version</dt>\n",
       "                <dd><code>v2.3.1</code></dd>\n",
       "              <dt>Master</dt>\n",
       "                <dd><code>local[*]</code></dd>\n",
       "              <dt>AppName</dt>\n",
       "                <dd><code>Universal Bank Data Set</code></dd>\n",
       "            </dl>\n",
       "        </div>\n",
       "        \n",
       "            </div>\n",
       "        "
      ],
      "text/plain": [
       "<pyspark.sql.session.SparkSession at 0x7f010a4af1d0>"
      ]
     },
     "execution_count": 5,
     "metadata": {
      "tags": []
     },
     "output_type": "execute_result"
    }
   ],
   "source": [
    "spark"
   ]
  },
  {
   "cell_type": "markdown",
   "metadata": {
    "colab_type": "text",
    "collapsed": true,
    "id": "0OcvgW0SirC6"
   },
   "source": [
    "### Loading the dependent libraries"
   ]
  },
  {
   "cell_type": "code",
   "execution_count": 0,
   "metadata": {
    "colab": {},
    "colab_type": "code",
    "id": "zC7FVU1UirC7"
   },
   "outputs": [],
   "source": [
    "from pyspark.sql.types import *\n",
    "from pyspark.sql.functions import *\n",
    "from pyspark.sql.functions import isnan, when, count, col, countDistinct"
   ]
  },
  {
   "cell_type": "markdown",
   "metadata": {
    "colab_type": "text",
    "id": "Gsbk35-AirC-"
   },
   "source": [
    "\n",
    "#### Problem Statement\n",
    "The dataset is from a bank, data related to direct marketing campaigns of a Portuguese banking institution. The marketing campaigns were based on phone calls. Often, more than one contact to the same client was required, to access if the product (bank term deposit) would be (or not) subscribed. The data and attribute description are in the folder. \n",
    "\n",
    "\n",
    "#### Data Dictionary\n",
    " The dataset has the following attributes:\n",
    "\n",
    "1 - age (numeric)\n",
    "\n",
    "2 - job : type of job (categorical: \"admin.\",\"unknown\",\"unemployed\",\"management\",\"housemaid\",\"entrepreneur\",\"student\",\n",
    "                                    \"blue-collar\",\"self-employed\",\"retired\",\"technician\",\"services\") \n",
    "\n",
    "3 - marital : marital status (categorical: \"married\",\"divorced\",\"single\"; note: \"divorced\" means divorced or widowed)\n",
    "\n",
    "4 - education (categorical: \"unknown\",\"secondary\",\"primary\",\"tertiary\")\n",
    "\n",
    "5 - default: has credit in default? (binary: \"yes\",\"no\")\n",
    "\n",
    "#### 6 - balance: average yearly balance, in euros (numeric) \n",
    "\n",
    "7 - housing: has housing loan? (binary: \"yes\",\"no\")\n",
    "\n",
    "8 - loan: has personal loan? (binary: \"yes\",\"no\")\n",
    "\n",
    "9 - contact: contact communication type (categorical: \"unknown\",\"telephone\",\"cellular\") \n",
    "\n",
    "10 - day: last contact day of the month (numeric)\n",
    "\n",
    "11 - month: last contact month of year (categorical: \"jan\", \"feb\", \"mar\", ..., \"nov\", \"dec\")\n",
    "\n",
    "12 - duration: last contact duration, in seconds (numeric)\n",
    "\n",
    "13 - campaign: number of contacts performed during this campaign and for this client (numeric, includes last contact)\n",
    "\n",
    "14 - pdays: number of days that passed by after the client was last contacted from a previous campaign (numeric, -1 means client was not previously contacted)\n",
    "  \n",
    "15 - previous: number of contacts performed before this campaign and for this client (numeric)\n",
    "\n",
    "16 - poutcome: outcome of the previous marketing campaign (categorical: \"unknown\",\"other\",\"failure\",\"success\")\n",
    "\n",
    "17 - Approved_no_yes - has the client subscribed to a __term deposit?__ (binary: \"yes\",\"no\")"
   ]
  },
  {
   "cell_type": "markdown",
   "metadata": {
    "colab_type": "text",
    "id": "hYV85UdCirC-"
   },
   "source": [
    "### Defining the schema to data"
   ]
  },
  {
   "cell_type": "code",
   "execution_count": 0,
   "metadata": {
    "colab": {},
    "colab_type": "code",
    "id": "hfHymsmfirC_"
   },
   "outputs": [],
   "source": [
    "## Define Schema\n",
    "bankDataSchema = StructType([\n",
    "    StructField(\"age\", IntegerType(), True),\n",
    "    StructField(\"job\", StringType(), True),\n",
    "    StructField(\"marital_status\", StringType(), True),\n",
    "    StructField(\"education\", StringType(), True),\n",
    "    StructField(\"default\", StringType(), True),\n",
    "    StructField(\"balance\", DoubleType(), True),\n",
    "    StructField(\"housing\", StringType(), True),\n",
    "    StructField(\"loan\", StringType(), True),        \n",
    "    StructField(\"contact\", StringType(), True),\n",
    "    StructField(\"day\", IntegerType(), True),\n",
    "    StructField(\"month\", StringType(), True),\n",
    "    StructField(\"duration\", DoubleType(), True),\n",
    "    StructField(\"campaign\", DoubleType(), True),\n",
    "    StructField(\"pdays\", DoubleType(), True),\n",
    "    StructField(\"previous\", DoubleType(), True),\n",
    "    StructField(\"poutcome\", StringType(), True),\n",
    "    StructField(\"Approved_no_yes\", StringType(), True)])"
   ]
  },
  {
   "cell_type": "markdown",
   "metadata": {
    "colab_type": "text",
    "id": "nfEPeP_lirDC"
   },
   "source": [
    "### Reading the data and creating a dataframe"
   ]
  },
  {
   "cell_type": "code",
   "execution_count": 0,
   "metadata": {
    "colab": {},
    "colab_type": "code",
    "id": "tfF0-sIKirDD"
   },
   "outputs": [],
   "source": [
    "## Read data and create a dataframe\n",
    "data = spark.read.format(\"csv\")\\\n",
    "       .option(\"header\", \"false\")\\\n",
    "       .option(\"inferSchema\", \"true\")\\\n",
    "       .load(\"drive/My Drive/20191221_CSE7312c_Batch75_SparkML/SparkML/data/bank.csv\", schema = bankDataSchema)"
   ]
  },
  {
   "cell_type": "markdown",
   "metadata": {
    "colab_type": "text",
    "id": "sROtxYRbirDH"
   },
   "source": [
    "### Understanding Data"
   ]
  },
  {
   "cell_type": "markdown",
   "metadata": {
    "colab_type": "text",
    "id": "1Ln9lWy4irDJ"
   },
   "source": [
    "#### Print Schema"
   ]
  },
  {
   "cell_type": "code",
   "execution_count": 10,
   "metadata": {
    "colab": {
     "base_uri": "https://localhost:8080/",
     "height": 340
    },
    "colab_type": "code",
    "executionInfo": {
     "elapsed": 6685,
     "status": "ok",
     "timestamp": 1577682482437,
     "user": {
      "displayName": "Thomas K John",
      "photoUrl": "",
      "userId": "10832060721107655920"
     },
     "user_tz": -330
    },
    "id": "tDaCgVnrirDJ",
    "outputId": "6dd2460c-40f1-4aa7-bc13-9afc19eb073b"
   },
   "outputs": [
    {
     "name": "stdout",
     "output_type": "stream",
     "text": [
      "root\n",
      " |-- age: integer (nullable = true)\n",
      " |-- job: string (nullable = true)\n",
      " |-- marital_status: string (nullable = true)\n",
      " |-- education: string (nullable = true)\n",
      " |-- default: string (nullable = true)\n",
      " |-- balance: double (nullable = true)\n",
      " |-- housing: string (nullable = true)\n",
      " |-- loan: string (nullable = true)\n",
      " |-- contact: string (nullable = true)\n",
      " |-- day: integer (nullable = true)\n",
      " |-- month: string (nullable = true)\n",
      " |-- duration: double (nullable = true)\n",
      " |-- campaign: double (nullable = true)\n",
      " |-- pdays: double (nullable = true)\n",
      " |-- previous: double (nullable = true)\n",
      " |-- poutcome: string (nullable = true)\n",
      " |-- Approved_no_yes: string (nullable = true)\n",
      "\n"
     ]
    }
   ],
   "source": [
    "data.printSchema()"
   ]
  },
  {
   "cell_type": "markdown",
   "metadata": {
    "colab_type": "text",
    "id": "k5lhNcavirDN"
   },
   "source": [
    "#### Another way to check the data type of each attribute"
   ]
  },
  {
   "cell_type": "code",
   "execution_count": 11,
   "metadata": {
    "colab": {
     "base_uri": "https://localhost:8080/",
     "height": 306
    },
    "colab_type": "code",
    "executionInfo": {
     "elapsed": 7254,
     "status": "ok",
     "timestamp": 1577682483016,
     "user": {
      "displayName": "Thomas K John",
      "photoUrl": "",
      "userId": "10832060721107655920"
     },
     "user_tz": -330
    },
    "id": "J76MCaukirDO",
    "outputId": "23bc13a5-b1da-4980-b567-7b4821271233"
   },
   "outputs": [
    {
     "data": {
      "text/plain": [
       "[('age', 'int'),\n",
       " ('job', 'string'),\n",
       " ('marital_status', 'string'),\n",
       " ('education', 'string'),\n",
       " ('default', 'string'),\n",
       " ('balance', 'double'),\n",
       " ('housing', 'string'),\n",
       " ('loan', 'string'),\n",
       " ('contact', 'string'),\n",
       " ('day', 'int'),\n",
       " ('month', 'string'),\n",
       " ('duration', 'double'),\n",
       " ('campaign', 'double'),\n",
       " ('pdays', 'double'),\n",
       " ('previous', 'double'),\n",
       " ('poutcome', 'string'),\n",
       " ('Approved_no_yes', 'string')]"
      ]
     },
     "execution_count": 11,
     "metadata": {
      "tags": []
     },
     "output_type": "execute_result"
    }
   ],
   "source": [
    "data.dtypes"
   ]
  },
  {
   "cell_type": "markdown",
   "metadata": {
    "colab_type": "text",
    "id": "cP09yjsWirDR"
   },
   "source": [
    "#### Total number of Columns and Records"
   ]
  },
  {
   "cell_type": "code",
   "execution_count": 12,
   "metadata": {
    "colab": {
     "base_uri": "https://localhost:8080/",
     "height": 51
    },
    "colab_type": "code",
    "executionInfo": {
     "elapsed": 7247,
     "status": "ok",
     "timestamp": 1577682483017,
     "user": {
      "displayName": "Thomas K John",
      "photoUrl": "",
      "userId": "10832060721107655920"
     },
     "user_tz": -330
    },
    "id": "QcSyK1qHirDS",
    "outputId": "13d26a67-21ce-4823-d9ec-a12347f3da20"
   },
   "outputs": [
    {
     "name": "stdout",
     "output_type": "stream",
     "text": [
      "No. of Columns = 17\n",
      "No. of Records = 4521\n"
     ]
    }
   ],
   "source": [
    "print(\"No. of Columns = {}\".format(len(data.columns)))\n",
    "\n",
    "print('No. of Records = {}'.format(data.count()))"
   ]
  },
  {
   "cell_type": "markdown",
   "metadata": {
    "colab_type": "text",
    "id": "wgnZFty4irDU"
   },
   "source": [
    "#### Look at first 3 row of the dataframe"
   ]
  },
  {
   "cell_type": "code",
   "execution_count": 13,
   "metadata": {
    "colab": {
     "base_uri": "https://localhost:8080/",
     "height": 88
    },
    "colab_type": "code",
    "executionInfo": {
     "elapsed": 7240,
     "status": "ok",
     "timestamp": 1577682483018,
     "user": {
      "displayName": "Thomas K John",
      "photoUrl": "",
      "userId": "10832060721107655920"
     },
     "user_tz": -330
    },
    "id": "xqjvbYCbirDW",
    "outputId": "e550c692-11e6-4808-9e7c-23ffabf6a19e"
   },
   "outputs": [
    {
     "data": {
      "text/plain": [
       "[Row(age=30, job=u'unemployed', marital_status=u'married', education=u'primary', default=u'no', balance=1787.0, housing=u'no', loan=u'no', contact=u'cellular', day=19, month=u'oct', duration=79.0, campaign=1.0, pdays=-1.0, previous=0.0, poutcome=u'unknown', Approved_no_yes=u'no'),\n",
       " Row(age=33, job=u'services', marital_status=u'married', education=u'secondary', default=u'no', balance=4789.0, housing=u'yes', loan=u'yes', contact=u'cellular', day=11, month=u'may', duration=220.0, campaign=1.0, pdays=339.0, previous=4.0, poutcome=u'failure', Approved_no_yes=u'no'),\n",
       " Row(age=35, job=u'management', marital_status=u'single', education=u'tertiary', default=u'no', balance=1350.0, housing=u'yes', loan=u'no', contact=u'cellular', day=16, month=u'apr', duration=185.0, campaign=1.0, pdays=330.0, previous=1.0, poutcome=u'failure', Approved_no_yes=u'no')]"
      ]
     },
     "execution_count": 13,
     "metadata": {
      "tags": []
     },
     "output_type": "execute_result"
    }
   ],
   "source": [
    "data.head(3)"
   ]
  },
  {
   "cell_type": "code",
   "execution_count": 14,
   "metadata": {
    "colab": {
     "base_uri": "https://localhost:8080/",
     "height": 170
    },
    "colab_type": "code",
    "executionInfo": {
     "elapsed": 7234,
     "status": "ok",
     "timestamp": 1577682483019,
     "user": {
      "displayName": "Thomas K John",
      "photoUrl": "",
      "userId": "10832060721107655920"
     },
     "user_tz": -330
    },
    "id": "2cwXgFrcirDZ",
    "outputId": "a439a99e-8a30-4531-e167-62d31559c582"
   },
   "outputs": [
    {
     "name": "stdout",
     "output_type": "stream",
     "text": [
      "+---+----------+--------------+---------+-------+-------+-------+----+--------+---+-----+--------+--------+-----+--------+--------+---------------+\n",
      "|age|       job|marital_status|education|default|balance|housing|loan| contact|day|month|duration|campaign|pdays|previous|poutcome|Approved_no_yes|\n",
      "+---+----------+--------------+---------+-------+-------+-------+----+--------+---+-----+--------+--------+-----+--------+--------+---------------+\n",
      "| 30|unemployed|       married|  primary|     no| 1787.0|     no|  no|cellular| 19|  oct|    79.0|     1.0| -1.0|     0.0| unknown|             no|\n",
      "| 33|  services|       married|secondary|     no| 4789.0|    yes| yes|cellular| 11|  may|   220.0|     1.0|339.0|     4.0| failure|             no|\n",
      "| 35|management|        single| tertiary|     no| 1350.0|    yes|  no|cellular| 16|  apr|   185.0|     1.0|330.0|     1.0| failure|             no|\n",
      "+---+----------+--------------+---------+-------+-------+-------+----+--------+---+-----+--------+--------+-----+--------+--------+---------------+\n",
      "only showing top 3 rows\n",
      "\n"
     ]
    }
   ],
   "source": [
    "data.show(3)"
   ]
  },
  {
   "cell_type": "markdown",
   "metadata": {
    "colab_type": "text",
    "id": "zcS6ji66irDb"
   },
   "source": [
    "#### Summary statistics"
   ]
  },
  {
   "cell_type": "code",
   "execution_count": 15,
   "metadata": {
    "colab": {
     "base_uri": "https://localhost:8080/",
     "height": 207
    },
    "colab_type": "code",
    "executionInfo": {
     "elapsed": 9694,
     "status": "ok",
     "timestamp": 1577682485487,
     "user": {
      "displayName": "Thomas K John",
      "photoUrl": "",
      "userId": "10832060721107655920"
     },
     "user_tz": -330
    },
    "id": "6MxFoe9hirDe",
    "outputId": "e2639272-ff56-44ea-83fe-24e46b299c91"
   },
   "outputs": [
    {
     "name": "stdout",
     "output_type": "stream",
     "text": [
      "+-------+------------------+-------+--------------+---------+-------+------------------+-------+----+--------+------------------+-----+------------------+------------------+------------------+------------------+--------+---------------+\n",
      "|summary|               age|    job|marital_status|education|default|           balance|housing|loan| contact|               day|month|          duration|          campaign|             pdays|          previous|poutcome|Approved_no_yes|\n",
      "+-------+------------------+-------+--------------+---------+-------+------------------+-------+----+--------+------------------+-----+------------------+------------------+------------------+------------------+--------+---------------+\n",
      "|  count|              4521|   4521|          4521|     4521|   4521|              4521|   4521|4521|    4521|              4521| 4521|              4521|              4521|              4521|              4521|    4521|           4521|\n",
      "|   mean| 41.17009511170095|   null|          null|     null|   null|1422.6578190665782|   null|null|    null|15.915284229152842| null|263.96129174961294| 2.793629727936297|39.766644547666445|0.5425790754257908|    null|           null|\n",
      "| stddev|10.576210958711263|   null|          null|     null|   null|3009.6381424673395|   null|null|    null| 8.247667327229934| null|259.85663262468216|3.1098066601885823|100.12112444301656|1.6935623506071211|    null|           null|\n",
      "|    min|                19| admin.|      divorced|  primary|     no|           -3313.0|     no|  no|cellular|                 1|  apr|               4.0|               1.0|              -1.0|               0.0| failure|             no|\n",
      "|    max|                87|unknown|        single|  unknown|    yes|           71188.0|    yes| yes| unknown|                31|  sep|            3025.0|              50.0|             871.0|              25.0| unknown|            yes|\n",
      "+-------+------------------+-------+--------------+---------+-------+------------------+-------+----+--------+------------------+-----+------------------+------------------+------------------+------------------+--------+---------------+\n",
      "\n"
     ]
    }
   ],
   "source": [
    "data.describe().show()"
   ]
  },
  {
   "cell_type": "markdown",
   "metadata": {
    "colab_type": "text",
    "id": "lF2qB1_uirDg"
   },
   "source": [
    "Show only fixed set of colums "
   ]
  },
  {
   "cell_type": "code",
   "execution_count": 16,
   "metadata": {
    "colab": {
     "base_uri": "https://localhost:8080/",
     "height": 187
    },
    "colab_type": "code",
    "executionInfo": {
     "elapsed": 11739,
     "status": "ok",
     "timestamp": 1577682487544,
     "user": {
      "displayName": "Thomas K John",
      "photoUrl": "",
      "userId": "10832060721107655920"
     },
     "user_tz": -330
    },
    "id": "Wuhi4hilirDh",
    "outputId": "579274fc-f8c6-48d3-fb11-c34c198b3f85"
   },
   "outputs": [
    {
     "name": "stdout",
     "output_type": "stream",
     "text": [
      "+-------+------------------+----+------------------+------------------+\n",
      "|summary|               age|loan|           balance|             pdays|\n",
      "+-------+------------------+----+------------------+------------------+\n",
      "|  count|              4521|4521|              4521|              4521|\n",
      "|   mean| 41.17009511170095|null|1422.6578190665782|39.766644547666445|\n",
      "| stddev|10.576210958711263|null|3009.6381424673395|100.12112444301656|\n",
      "|    min|                19|  no|           -3313.0|              -1.0|\n",
      "|    max|                87| yes|           71188.0|             871.0|\n",
      "+-------+------------------+----+------------------+------------------+\n",
      "\n"
     ]
    }
   ],
   "source": [
    "data.describe().select('summary', 'age', 'loan', 'balance', 'pdays').show()"
   ]
  },
  {
   "cell_type": "markdown",
   "metadata": {
    "colab_type": "text",
    "id": "yVFl-GC_irDk"
   },
   "source": [
    "Observation\n",
    "\n",
    "    Balance has -ve values"
   ]
  },
  {
   "cell_type": "code",
   "execution_count": 17,
   "metadata": {
    "colab": {
     "base_uri": "https://localhost:8080/",
     "height": 34
    },
    "colab_type": "code",
    "executionInfo": {
     "elapsed": 11732,
     "status": "ok",
     "timestamp": 1577682487545,
     "user": {
      "displayName": "Thomas K John",
      "photoUrl": "",
      "userId": "10832060721107655920"
     },
     "user_tz": -330
    },
    "id": "1LfrjqbIirDm",
    "outputId": "c04e0361-9f35-4a2f-9769-ed50cb2f3e05"
   },
   "outputs": [
    {
     "data": {
      "text/plain": [
       "366"
      ]
     },
     "execution_count": 17,
     "metadata": {
      "tags": []
     },
     "output_type": "execute_result"
    }
   ],
   "source": [
    "data.where(data.balance < 0).count()"
   ]
  },
  {
   "cell_type": "markdown",
   "metadata": {
    "colab_type": "text",
    "id": "rO7tEt8uirDo"
   },
   "source": [
    "### Data Preprocessing"
   ]
  },
  {
   "cell_type": "markdown",
   "metadata": {
    "colab_type": "text",
    "id": "Z_7eGd_YirDr"
   },
   "source": [
    "#### Replace negative balances with zeroes"
   ]
  },
  {
   "cell_type": "code",
   "execution_count": 0,
   "metadata": {
    "colab": {},
    "colab_type": "code",
    "id": "vVdhLot1irDs"
   },
   "outputs": [],
   "source": [
    "data = data.withColumn('balance', when(data.balance > 0, data.balance).otherwise(0))"
   ]
  },
  {
   "cell_type": "markdown",
   "metadata": {
    "colab_type": "text",
    "id": "824U3ykairDy"
   },
   "source": [
    "#### Handling missing values"
   ]
  },
  {
   "cell_type": "markdown",
   "metadata": {
    "colab_type": "text",
    "id": "v92S5qqPirDz"
   },
   "source": [
    "Checking for null values at each column"
   ]
  },
  {
   "cell_type": "code",
   "execution_count": 19,
   "metadata": {
    "colab": {
     "base_uri": "https://localhost:8080/",
     "height": 119
    },
    "colab_type": "code",
    "executionInfo": {
     "elapsed": 13385,
     "status": "ok",
     "timestamp": 1577682489220,
     "user": {
      "displayName": "Thomas K John",
      "photoUrl": "",
      "userId": "10832060721107655920"
     },
     "user_tz": -330
    },
    "id": "xJrfGwA1irD0",
    "outputId": "239c9500-3c92-462e-ff13-1cf974e1d240"
   },
   "outputs": [
    {
     "name": "stdout",
     "output_type": "stream",
     "text": [
      "+---+---+--------------+---------+-------+-------+-------+----+-------+---+-----+--------+--------+-----+--------+--------+---------------+\n",
      "|age|job|marital_status|education|default|balance|housing|loan|contact|day|month|duration|campaign|pdays|previous|poutcome|Approved_no_yes|\n",
      "+---+---+--------------+---------+-------+-------+-------+----+-------+---+-----+--------+--------+-----+--------+--------+---------------+\n",
      "|  0|  0|             0|        0|      0|      0|      0|   0|      0|  0|    0|       0|       0|    0|       0|       0|              0|\n",
      "+---+---+--------------+---------+-------+-------+-------+----+-------+---+-----+--------+--------+-----+--------+--------+---------------+\n",
      "\n"
     ]
    }
   ],
   "source": [
    "data.select([count(when(isnan(c) | col(c).isNull(), c)).alias(c) for c in data.columns]).show()"
   ]
  },
  {
   "cell_type": "markdown",
   "metadata": {
    "colab_type": "text",
    "id": "uOCNjCeIirD3"
   },
   "source": [
    "#### Split the data into training and test sets (30% held out for testing)"
   ]
  },
  {
   "cell_type": "code",
   "execution_count": 0,
   "metadata": {
    "colab": {},
    "colab_type": "code",
    "id": "2BgQioZSirD4"
   },
   "outputs": [],
   "source": [
    "(trainingData, testData) = data.randomSplit([0.7, 0.3])"
   ]
  },
  {
   "cell_type": "markdown",
   "metadata": {
    "colab_type": "text",
    "id": "X7YLvgVeirD6"
   },
   "source": [
    "#### Creating a list of categorical and numerical features"
   ]
  },
  {
   "cell_type": "code",
   "execution_count": 0,
   "metadata": {
    "colab": {},
    "colab_type": "code",
    "id": "ThPONLbzirD6"
   },
   "outputs": [],
   "source": [
    "cat_Var_Names = ['job', 'marital_status', 'education', 'default', 'housing', \n",
    "                 'day', 'contact', 'month', 'poutcome', 'Approved_no_yes']\n",
    "\n",
    "num_Var_Names = ['age', 'duration', 'previous', 'pdays', 'campaign']"
   ]
  },
  {
   "cell_type": "markdown",
   "metadata": {
    "colab_type": "text",
    "id": "0yxfC6omirD9"
   },
   "source": [
    "#### Use VectorAssembler to combine a given list of numcolumns into a single vector column."
   ]
  },
  {
   "cell_type": "code",
   "execution_count": 0,
   "metadata": {
    "colab": {},
    "colab_type": "code",
    "id": "bjxBt6LiirD-"
   },
   "outputs": [],
   "source": [
    "from pyspark.ml.feature import VectorAssembler\n",
    "\n",
    "assembler_Num = VectorAssembler(inputCols=num_Var_Names, outputCol=\"num_features\")"
   ]
  },
  {
   "cell_type": "markdown",
   "metadata": {
    "colab_type": "text",
    "id": "7wTASl39irEA"
   },
   "source": [
    "#### Scale all the numeric attributes using MinMaxScaler\n",
    "\n",
    "    MinMaxScaler transforms a dataset of Vector rows, rescaling each feature to a specific range (often [0, 1]). \n",
    "\n",
    "    MinMaxScaler computes summary statistics on a data set and produces a MinMaxScalerModel. The model can then transform each feature individually such that it is in the given range."
   ]
  },
  {
   "cell_type": "code",
   "execution_count": 0,
   "metadata": {
    "colab": {},
    "colab_type": "code",
    "id": "MjkRC0lmirEB"
   },
   "outputs": [],
   "source": [
    "from pyspark.ml.feature import MinMaxScaler\n",
    "\n",
    "min_Max_Scalar = MinMaxScaler(inputCol=\"num_features\", outputCol=\"scaled_num_features\")"
   ]
  },
  {
   "cell_type": "markdown",
   "metadata": {
    "colab_type": "text",
    "id": "BrvVq4s8irEE"
   },
   "source": [
    "#### Covert categorical to numeric : \n",
    "\n",
    "    OneHotEncoder, StringIndexer, VectorAssembler,  VectorIndexer"
   ]
  },
  {
   "cell_type": "code",
   "execution_count": 0,
   "metadata": {
    "colab": {},
    "colab_type": "code",
    "id": "DUxz3kh1irEE"
   },
   "outputs": [],
   "source": [
    "from pyspark.ml.feature import OneHotEncoder, StringIndexer, VectorAssembler\n",
    "\n",
    "indexers_Cat = [StringIndexer(inputCol=cat_Var_Name, outputCol=\"{0}_index\".format(cat_Var_Name)) for cat_Var_Name in cat_Var_Names ]\n",
    "encoders_Cat = [OneHotEncoder(inputCol=indexer.getOutputCol(), outputCol=\"{0}_vec\".format(indexer.getInputCol())) for indexer in indexers_Cat]\n",
    "assembler_Cat = VectorAssembler(inputCols=[encoder.getOutputCol() for encoder in encoders_Cat], outputCol=\"cat_features\")\n",
    "\n",
    "assembler = VectorAssembler(inputCols=[\"scaled_num_features\",\"cat_features\"], outputCol=\"features\")\n"
   ]
  },
  {
   "cell_type": "code",
   "execution_count": 0,
   "metadata": {
    "colab": {},
    "colab_type": "code",
    "id": "uexfg6tqirEH"
   },
   "outputs": [],
   "source": [
    "preprocessiong_Stages = [assembler_Num]+[min_Max_Scalar]+indexers_Cat+encoders_Cat+[assembler_Cat]+[assembler]"
   ]
  },
  {
   "cell_type": "markdown",
   "metadata": {
    "colab_type": "text",
    "id": "AnSv12CiirEJ"
   },
   "source": [
    "### Model Building and Evaluation"
   ]
  },
  {
   "cell_type": "markdown",
   "metadata": {
    "colab_type": "text",
    "id": "zGcHZTBLirEL"
   },
   "source": [
    "#### Linear Regression"
   ]
  },
  {
   "cell_type": "code",
   "execution_count": 0,
   "metadata": {
    "colab": {},
    "colab_type": "code",
    "id": "NR_-zyOFirEN"
   },
   "outputs": [],
   "source": [
    "from pyspark.ml.regression import LinearRegression\n",
    "\n",
    "lr = LinearRegression(maxIter=100,labelCol=\"balance\", featuresCol=\"features\")"
   ]
  },
  {
   "cell_type": "code",
   "execution_count": 0,
   "metadata": {
    "colab": {},
    "colab_type": "code",
    "id": "tVhGVZmPirEO"
   },
   "outputs": [],
   "source": [
    "from pyspark.ml import Pipeline\n",
    "\n",
    "lr_Pipeline = Pipeline(stages=preprocessiong_Stages+[lr]) \n",
    "\n",
    "lr_Pipeline_model = lr_Pipeline.fit(trainingData)"
   ]
  },
  {
   "cell_type": "code",
   "execution_count": 28,
   "metadata": {
    "colab": {
     "base_uri": "https://localhost:8080/",
     "height": 71
    },
    "colab_type": "code",
    "executionInfo": {
     "elapsed": 23031,
     "status": "ok",
     "timestamp": 1577682498950,
     "user": {
      "displayName": "Thomas K John",
      "photoUrl": "",
      "userId": "10832060721107655920"
     },
     "user_tz": -330
    },
    "id": "J2TG6pQjirER",
    "outputId": "3020184a-1d8e-408b-93e2-9d1b77c75179"
   },
   "outputs": [
    {
     "name": "stdout",
     "output_type": "stream",
     "text": [
      "Coefficients: [1248.2294876957467,-184.11210257274044,789.6718488083674,-1320.5523561482878,103.35596308702335,-150.26990737699023,-419.5582351003783,-302.7640536990444,-390.21062991481847,-346.0401572890811,560.3898916697083,-443.10267658553516,147.8458502616132,-403.8540220827975,280.8667349081335,-87.5880054212444,423.23567303163105,566.0981120944193,-78.06915864141939,133.19141991770348,-106.88779544856492,1043.6550933860137,-38.51431053504276,524.6429425304407,622.4303902044569,249.22147436960455,1018.7021695244213,485.20850758848354,446.88108336888655,-300.28165846130713,507.9606002873643,552.0944204354311,839.8333153409166,768.9890321081105,201.3739040778598,518.3875823581851,292.0766338701231,222.7904149278321,765.3449954597302,54.597267314606675,-255.3139831386184,754.2705585032998,552.6271492348114,330.68817763548924,611.0471439490675,-143.03846169213745,89.24234395670919,267.45090508913853,-62.8254620970972,1136.4026352328706,424.2607349799009,31.738236716626787,415.04165517652274,-275.24094086202206,-327.6840269450021,-2610.3635746642562,-3187.924974603398,-2566.3097990544456,-2223.0477456392455,-1454.5555370001969,-2240.530241725519,-2573.656145738859,-3052.9087786867854,-1052.6600972963709,-2627.9928805507243,-2361.9584176083326,-315.5742679362956,-183.3317322170209,-122.05050241916926,67.93170967884433]\n",
      "Intercept: 2481.95302922\n"
     ]
    }
   ],
   "source": [
    "print(\"Coefficients: \" + str(lr_Pipeline_model.stages[-1].coefficients))\n",
    "print(\"Intercept: \" + str(lr_Pipeline_model.stages[-1].intercept))"
   ]
  },
  {
   "cell_type": "code",
   "execution_count": 0,
   "metadata": {
    "colab": {},
    "colab_type": "code",
    "id": "9KH5YpoRirES"
   },
   "outputs": [],
   "source": [
    "train_predictions_lr = lr_Pipeline_model.transform(trainingData)\n",
    "test_predictions_lr = lr_Pipeline_model.transform(testData)"
   ]
  },
  {
   "cell_type": "code",
   "execution_count": 30,
   "metadata": {
    "colab": {
     "base_uri": "https://localhost:8080/",
     "height": 173
    },
    "colab_type": "code",
    "executionInfo": {
     "elapsed": 25752,
     "status": "ok",
     "timestamp": 1577682501689,
     "user": {
      "displayName": "Thomas K John",
      "photoUrl": "",
      "userId": "10832060721107655920"
     },
     "user_tz": -330
    },
    "id": "tOcNc2QGirEV",
    "outputId": "e41d3cba-0a6c-4d74-b2db-0f3c36411545"
   },
   "outputs": [
    {
     "name": "stdout",
     "output_type": "stream",
     "text": [
      "+---+-------+--------------+---------+-------+-------+-------+----+--------+---+-----+--------+--------+-----+--------+--------+---------------+--------------------+--------------------+---------+--------------------+---------------+-------------+-------------+---------+-------------+-----------+--------------+---------------------+---------------+------------------+-------------+-------------+-----------+---------------+-------------+--------------+-------------+-------------------+--------------------+--------------------+------------------+\n",
      "|age|    job|marital_status|education|default|balance|housing|loan| contact|day|month|duration|campaign|pdays|previous|poutcome|Approved_no_yes|        num_features| scaled_num_features|job_index|marital_status_index|education_index|default_index|housing_index|day_index|contact_index|month_index|poutcome_index|Approved_no_yes_index|        job_vec|marital_status_vec|education_vec|  default_vec|housing_vec|        day_vec|  contact_vec|     month_vec| poutcome_vec|Approved_no_yes_vec|        cat_features|            features|        prediction|\n",
      "+---+-------+--------------+---------+-------+-------+-------+----+--------+---+-----+--------+--------+-----+--------+--------+---------------+--------------------+--------------------+---------+--------------------+---------------+-------------+-------------+---------+-------------+-----------+--------------+---------------------+---------------+------------------+-------------+-------------+-----------+---------------+-------------+--------------+-------------+-------------------+--------------------+--------------------+------------------+\n",
      "| 19|student|        single|  primary|     no|  103.0|     no|  no|cellular| 10|  jul|   104.0|     2.0| -1.0|     0.0| unknown|            yes|[19.0,104.0,0.0,-...|[0.0,0.0331016219...|     10.0|                 1.0|            2.0|          0.0|          1.0|     28.0|          0.0|        1.0|           0.0|                  1.0|(11,[10],[1.0])|     (2,[1],[1.0])|(3,[2],[1.0])|(1,[0],[1.0])|  (1,[],[])|(30,[28],[1.0])|(2,[0],[1.0])|(11,[1],[1.0])|(3,[0],[1.0])|          (1,[],[])|(65,[10,12,15,16,...|(70,[1,4,15,17,20...| 146.2433832924453|\n",
      "| 19|student|        single|  unknown|     no| 1169.0|     no|  no|cellular|  6|  feb|   463.0|    18.0| -1.0|     0.0| unknown|             no|[19.0,463.0,0.0,-...|[0.0,0.1519364448...|     10.0|                 1.0|            3.0|          0.0|          1.0|     10.0|          0.0|        6.0|           0.0|                  0.0|(11,[10],[1.0])|     (2,[1],[1.0])|    (3,[],[])|(1,[0],[1.0])|  (1,[],[])|(30,[10],[1.0])|(2,[0],[1.0])|(11,[6],[1.0])|(3,[0],[1.0])|      (1,[0],[1.0])|(65,[10,12,16,28,...|(70,[1,4,15,17,21...|1684.4524694777017|\n",
      "+---+-------+--------------+---------+-------+-------+-------+----+--------+---+-----+--------+--------+-----+--------+--------+---------------+--------------------+--------------------+---------+--------------------+---------------+-------------+-------------+---------+-------------+-----------+--------------+---------------------+---------------+------------------+-------------+-------------+-----------+---------------+-------------+--------------+-------------+-------------------+--------------------+--------------------+------------------+\n",
      "only showing top 2 rows\n",
      "\n"
     ]
    }
   ],
   "source": [
    "test_predictions_lr.show(2)"
   ]
  },
  {
   "cell_type": "markdown",
   "metadata": {
    "colab_type": "text",
    "id": "jYtXHLrTirEW"
   },
   "source": [
    "#### Evaluation : LR Model"
   ]
  },
  {
   "cell_type": "code",
   "execution_count": 0,
   "metadata": {
    "colab": {},
    "colab_type": "code",
    "id": "krBFwthEirEX"
   },
   "outputs": [],
   "source": [
    "# Find the error metric - RMSE\n",
    "from pyspark.ml.evaluation import RegressionEvaluator\n",
    "\n",
    "evaluator = RegressionEvaluator(labelCol=\"balance\",\n",
    "                            predictionCol=\"prediction\",\n",
    "                            metricName=\"rmse\" )\n"
   ]
  },
  {
   "cell_type": "code",
   "execution_count": 32,
   "metadata": {
    "colab": {
     "base_uri": "https://localhost:8080/",
     "height": 51
    },
    "colab_type": "code",
    "executionInfo": {
     "elapsed": 26558,
     "status": "ok",
     "timestamp": 1577682502513,
     "user": {
      "displayName": "Thomas K John",
      "photoUrl": "",
      "userId": "10832060721107655920"
     },
     "user_tz": -330
    },
    "id": "bbo75IPuirEg",
    "outputId": "a320fdee-354a-41d5-9c27-5a589cea1e2e"
   },
   "outputs": [
    {
     "name": "stdout",
     "output_type": "stream",
     "text": [
      "('RMSE value on Train data is', 2911.154550416582)\n",
      "('RMSE value on Test data is', 2907.2608293150506)\n"
     ]
    }
   ],
   "source": [
    "lmRegTrain_rmse = evaluator.evaluate(train_predictions_lr)\n",
    "print('RMSE value on Train data is', lmRegTrain_rmse)\n",
    "\n",
    "lmRegTest_rmse = evaluator.evaluate(test_predictions_lr)\n",
    "print('RMSE value on Test data is', lmRegTest_rmse)"
   ]
  },
  {
   "cell_type": "markdown",
   "metadata": {
    "colab_type": "text",
    "id": "VgjeWeTLirEj"
   },
   "source": [
    "#### Tuning LR Model"
   ]
  },
  {
   "cell_type": "code",
   "execution_count": 0,
   "metadata": {
    "colab": {},
    "colab_type": "code",
    "id": "pVlkhNFjirEt"
   },
   "outputs": [],
   "source": [
    "from pyspark.ml.tuning import ParamGridBuilder, CrossValidator"
   ]
  },
  {
   "cell_type": "code",
   "execution_count": 0,
   "metadata": {
    "colab": {},
    "colab_type": "code",
    "id": "kX4UX8W2irEv"
   },
   "outputs": [],
   "source": [
    "paramGridLR = ParamGridBuilder()\\\n",
    "    .addGrid(lr.regParam, [0.1]) \\\n",
    "    .addGrid(lr.elasticNetParam, [0.5])\\\n",
    "    .addGrid(lr.maxIter, [100])\\\n",
    "    .build()\n",
    "    \n",
    "lr_crossval = CrossValidator(estimator=lr_Pipeline,\n",
    "                             estimatorParamMaps=paramGridLR,\n",
    "                             evaluator=RegressionEvaluator(labelCol=\"balance\"),\n",
    "                             numFolds=2)     "
   ]
  },
  {
   "cell_type": "code",
   "execution_count": 0,
   "metadata": {
    "colab": {},
    "colab_type": "code",
    "id": "g9suCQ7hirEw"
   },
   "outputs": [],
   "source": [
    "# Run cross-validation, and choose the best set of parameters.\n",
    "lr_crossval_Model = lr_crossval.fit(trainingData)"
   ]
  },
  {
   "cell_type": "code",
   "execution_count": 0,
   "metadata": {
    "colab": {},
    "colab_type": "code",
    "id": "_pphFFJDirEz"
   },
   "outputs": [],
   "source": [
    "train_predictions_lrcv = lr_crossval_Model.transform(trainingData)\n",
    "test_predictions_lrcv = lr_crossval_Model.transform(testData)"
   ]
  },
  {
   "cell_type": "code",
   "execution_count": 37,
   "metadata": {
    "colab": {
     "base_uri": "https://localhost:8080/",
     "height": 51
    },
    "colab_type": "code",
    "executionInfo": {
     "elapsed": 44313,
     "status": "ok",
     "timestamp": 1577682520312,
     "user": {
      "displayName": "Thomas K John",
      "photoUrl": "",
      "userId": "10832060721107655920"
     },
     "user_tz": -330
    },
    "id": "tRv4NvAvirE5",
    "outputId": "cf290b19-5c80-427a-a631-23739f7a9e5e"
   },
   "outputs": [
    {
     "name": "stdout",
     "output_type": "stream",
     "text": [
      "('RMSE value on Train data is', 2911.217832832366)\n",
      "('RMSE value on Test data is', 2906.5024027407926)\n"
     ]
    }
   ],
   "source": [
    "lmRegTrain_rmsecv = evaluator.evaluate(train_predictions_lrcv)\n",
    "print('RMSE value on Train data is', lmRegTrain_rmsecv)\n",
    "\n",
    "lmRegTest_rmsecv = evaluator.evaluate(test_predictions_lrcv)\n",
    "print('RMSE value on Test data is', lmRegTest_rmsecv)"
   ]
  },
  {
   "cell_type": "markdown",
   "metadata": {
    "colab_type": "text",
    "id": "UPz9jT91irE7"
   },
   "source": [
    "#### Decision Tree Regressor"
   ]
  },
  {
   "cell_type": "code",
   "execution_count": 0,
   "metadata": {
    "colab": {},
    "colab_type": "code",
    "id": "gdIXwgt8irE8"
   },
   "outputs": [],
   "source": [
    "from pyspark.ml.regression import DecisionTreeRegressor\n",
    "\n",
    "dt = DecisionTreeRegressor(labelCol=\"balance\", featuresCol=\"features\")"
   ]
  },
  {
   "cell_type": "code",
   "execution_count": 0,
   "metadata": {
    "colab": {},
    "colab_type": "code",
    "id": "DMeWMzZOirE_"
   },
   "outputs": [],
   "source": [
    "dt_Pipeline = Pipeline(stages=preprocessiong_Stages+[dt]) \n",
    "\n",
    "dt_Pipeline_model = dt_Pipeline.fit(trainingData)"
   ]
  },
  {
   "cell_type": "code",
   "execution_count": 0,
   "metadata": {
    "colab": {},
    "colab_type": "code",
    "id": "-bvOezXvirFB"
   },
   "outputs": [],
   "source": [
    "train_predictions_dt = dt_Pipeline_model.transform(trainingData)\n",
    "test_predictions_dt = dt_Pipeline_model.transform(testData)"
   ]
  },
  {
   "cell_type": "code",
   "execution_count": 41,
   "metadata": {
    "colab": {
     "base_uri": "https://localhost:8080/",
     "height": 173
    },
    "colab_type": "code",
    "executionInfo": {
     "elapsed": 51370,
     "status": "ok",
     "timestamp": 1577682527398,
     "user": {
      "displayName": "Thomas K John",
      "photoUrl": "",
      "userId": "10832060721107655920"
     },
     "user_tz": -330
    },
    "id": "2oTsD1Q2irFC",
    "outputId": "16bfd232-911d-45d8-9bcf-f83c59861362"
   },
   "outputs": [
    {
     "name": "stdout",
     "output_type": "stream",
     "text": [
      "+---+-------+--------------+---------+-------+-------+-------+----+--------+---+-----+--------+--------+-----+--------+--------+---------------+--------------------+--------------------+---------+--------------------+---------------+-------------+-------------+---------+-------------+-----------+--------------+---------------------+---------------+------------------+-------------+-------------+-----------+---------------+-------------+--------------+-------------+-------------------+--------------------+--------------------+------------------+\n",
      "|age|    job|marital_status|education|default|balance|housing|loan| contact|day|month|duration|campaign|pdays|previous|poutcome|Approved_no_yes|        num_features| scaled_num_features|job_index|marital_status_index|education_index|default_index|housing_index|day_index|contact_index|month_index|poutcome_index|Approved_no_yes_index|        job_vec|marital_status_vec|education_vec|  default_vec|housing_vec|        day_vec|  contact_vec|     month_vec| poutcome_vec|Approved_no_yes_vec|        cat_features|            features|        prediction|\n",
      "+---+-------+--------------+---------+-------+-------+-------+----+--------+---+-----+--------+--------+-----+--------+--------+---------------+--------------------+--------------------+---------+--------------------+---------------+-------------+-------------+---------+-------------+-----------+--------------+---------------------+---------------+------------------+-------------+-------------+-----------+---------------+-------------+--------------+-------------+-------------------+--------------------+--------------------+------------------+\n",
      "| 19|student|        single|  primary|     no|  103.0|     no|  no|cellular| 10|  jul|   104.0|     2.0| -1.0|     0.0| unknown|            yes|[19.0,104.0,0.0,-...|[0.0,0.0331016219...|     10.0|                 1.0|            2.0|          0.0|          1.0|     28.0|          0.0|        1.0|           0.0|                  1.0|(11,[10],[1.0])|     (2,[1],[1.0])|(3,[2],[1.0])|(1,[0],[1.0])|  (1,[],[])|(30,[28],[1.0])|(2,[0],[1.0])|(11,[1],[1.0])|(3,[0],[1.0])|          (1,[],[])|(65,[10,12,15,16,...|(70,[1,4,15,17,20...| 717.1060606060606|\n",
      "| 19|student|        single|  unknown|     no| 1169.0|     no|  no|cellular|  6|  feb|   463.0|    18.0| -1.0|     0.0| unknown|             no|[19.0,463.0,0.0,-...|[0.0,0.1519364448...|     10.0|                 1.0|            3.0|          0.0|          1.0|     10.0|          0.0|        6.0|           0.0|                  0.0|(11,[10],[1.0])|     (2,[1],[1.0])|    (3,[],[])|(1,[0],[1.0])|  (1,[],[])|(30,[10],[1.0])|(2,[0],[1.0])|(11,[6],[1.0])|(3,[0],[1.0])|      (1,[0],[1.0])|(65,[10,12,16,28,...|(70,[1,4,15,17,21...|1186.5509677419354|\n",
      "+---+-------+--------------+---------+-------+-------+-------+----+--------+---+-----+--------+--------+-----+--------+--------+---------------+--------------------+--------------------+---------+--------------------+---------------+-------------+-------------+---------+-------------+-----------+--------------+---------------------+---------------+------------------+-------------+-------------+-----------+---------------+-------------+--------------+-------------+-------------------+--------------------+--------------------+------------------+\n",
      "only showing top 2 rows\n",
      "\n"
     ]
    }
   ],
   "source": [
    "test_predictions_dt.show(2)"
   ]
  },
  {
   "cell_type": "markdown",
   "metadata": {
    "colab_type": "text",
    "id": "Q094zLcEirFE"
   },
   "source": [
    "#### Evaluation : DT Model"
   ]
  },
  {
   "cell_type": "code",
   "execution_count": 42,
   "metadata": {
    "colab": {
     "base_uri": "https://localhost:8080/",
     "height": 51
    },
    "colab_type": "code",
    "executionInfo": {
     "elapsed": 51751,
     "status": "ok",
     "timestamp": 1577682527789,
     "user": {
      "displayName": "Thomas K John",
      "photoUrl": "",
      "userId": "10832060721107655920"
     },
     "user_tz": -330
    },
    "id": "id-8PRGBirFF",
    "outputId": "88827629-0dfd-41d8-cb86-d5edbf1f1941"
   },
   "outputs": [
    {
     "name": "stdout",
     "output_type": "stream",
     "text": [
      "('RMSE value on Train data is', 2589.6428287095523)\n",
      "('RMSE value on Test data is', 2942.928448761656)\n"
     ]
    }
   ],
   "source": [
    "dtTrain_rmse = evaluator.evaluate(train_predictions_dt)\n",
    "print('RMSE value on Train data is', dtTrain_rmse)\n",
    "\n",
    "dtTest_rmse = evaluator.evaluate(test_predictions_dt)\n",
    "print('RMSE value on Test data is', dtTest_rmse)"
   ]
  },
  {
   "cell_type": "markdown",
   "metadata": {
    "colab_type": "text",
    "id": "PU84Xp23irFG"
   },
   "source": [
    "#### Tuning DT Model"
   ]
  },
  {
   "cell_type": "code",
   "execution_count": 0,
   "metadata": {
    "colab": {},
    "colab_type": "code",
    "id": "bK1s782tirFH"
   },
   "outputs": [],
   "source": [
    "paramGridDT = ParamGridBuilder()\\\n",
    "    .addGrid(dt.maxDepth, [1,6,10]) \\\n",
    "    .build()\n",
    "    \n",
    "dt_crossval = CrossValidator(estimator=dt_Pipeline,\n",
    "                             estimatorParamMaps=paramGridDT,\n",
    "                             evaluator=RegressionEvaluator(labelCol=\"balance\"),\n",
    "                             numFolds=2)     "
   ]
  },
  {
   "cell_type": "code",
   "execution_count": 0,
   "metadata": {
    "colab": {},
    "colab_type": "code",
    "id": "Dp5hxmrzirFI"
   },
   "outputs": [],
   "source": [
    "# Run cross-validation, and choose the best set of parameters.\n",
    "dt_crossval_Model = dt_crossval.fit(trainingData)"
   ]
  },
  {
   "cell_type": "code",
   "execution_count": 0,
   "metadata": {
    "colab": {},
    "colab_type": "code",
    "id": "6VbOnDdIirFJ"
   },
   "outputs": [],
   "source": [
    "train_predictions_dtcv = dt_crossval_Model.transform(trainingData)\n",
    "test_predictions_dtcv = dt_crossval_Model.transform(testData)"
   ]
  },
  {
   "cell_type": "code",
   "execution_count": 46,
   "metadata": {
    "colab": {
     "base_uri": "https://localhost:8080/",
     "height": 51
    },
    "colab_type": "code",
    "executionInfo": {
     "elapsed": 77172,
     "status": "ok",
     "timestamp": 1577682553240,
     "user": {
      "displayName": "Thomas K John",
      "photoUrl": "",
      "userId": "10832060721107655920"
     },
     "user_tz": -330
    },
    "id": "6czXmipWirFK",
    "outputId": "bd0fd4e3-ac6b-48b4-c29b-ac464c7d5633"
   },
   "outputs": [
    {
     "name": "stdout",
     "output_type": "stream",
     "text": [
      "('RMSE value on Train data is', 2991.469247691134)\n",
      "('RMSE value on Test data is', 2928.0217408692665)\n"
     ]
    }
   ],
   "source": [
    "dtTrain_rmsecv = evaluator.evaluate(train_predictions_dtcv)\n",
    "print('RMSE value on Train data is', dtTrain_rmsecv)\n",
    "\n",
    "dtTest_rmsecv = evaluator.evaluate(test_predictions_dtcv)\n",
    "print('RMSE value on Test data is', dtTest_rmsecv)"
   ]
  },
  {
   "cell_type": "markdown",
   "metadata": {
    "colab_type": "text",
    "id": "XRIh63rgirFP"
   },
   "source": [
    "#### Random Forest Regressor"
   ]
  },
  {
   "cell_type": "code",
   "execution_count": 0,
   "metadata": {
    "colab": {},
    "colab_type": "code",
    "id": "eXNUgBuSirFP"
   },
   "outputs": [],
   "source": [
    "from pyspark.ml.regression import RandomForestRegressor\n",
    "\n",
    "rf = RandomForestRegressor(labelCol=\"balance\", featuresCol=\"features\")"
   ]
  },
  {
   "cell_type": "code",
   "execution_count": 0,
   "metadata": {
    "colab": {},
    "colab_type": "code",
    "id": "Auakvw05irFR"
   },
   "outputs": [],
   "source": [
    "rf_Pipeline = Pipeline(stages=preprocessiong_Stages+[rf]) \n",
    "\n",
    "rf_Pipeline_model = rf_Pipeline.fit(trainingData)"
   ]
  },
  {
   "cell_type": "code",
   "execution_count": 0,
   "metadata": {
    "colab": {},
    "colab_type": "code",
    "id": "cqhTBQDPirFT"
   },
   "outputs": [],
   "source": [
    "train_predictions_rf = rf_Pipeline_model.transform(trainingData)\n",
    "test_predictions_rf = rf_Pipeline_model.transform(testData)"
   ]
  },
  {
   "cell_type": "code",
   "execution_count": 50,
   "metadata": {
    "colab": {
     "base_uri": "https://localhost:8080/",
     "height": 173
    },
    "colab_type": "code",
    "executionInfo": {
     "elapsed": 83169,
     "status": "ok",
     "timestamp": 1577682559270,
     "user": {
      "displayName": "Thomas K John",
      "photoUrl": "",
      "userId": "10832060721107655920"
     },
     "user_tz": -330
    },
    "id": "IFZEyv-wirFV",
    "outputId": "99afc1ec-a045-4e98-cbc9-d7490fee4597"
   },
   "outputs": [
    {
     "name": "stdout",
     "output_type": "stream",
     "text": [
      "+---+-------+--------------+---------+-------+-------+-------+----+--------+---+-----+--------+--------+-----+--------+--------+---------------+--------------------+--------------------+---------+--------------------+---------------+-------------+-------------+---------+-------------+-----------+--------------+---------------------+---------------+------------------+-------------+-------------+-----------+---------------+-------------+--------------+-------------+-------------------+--------------------+--------------------+-----------------+\n",
      "|age|    job|marital_status|education|default|balance|housing|loan| contact|day|month|duration|campaign|pdays|previous|poutcome|Approved_no_yes|        num_features| scaled_num_features|job_index|marital_status_index|education_index|default_index|housing_index|day_index|contact_index|month_index|poutcome_index|Approved_no_yes_index|        job_vec|marital_status_vec|education_vec|  default_vec|housing_vec|        day_vec|  contact_vec|     month_vec| poutcome_vec|Approved_no_yes_vec|        cat_features|            features|       prediction|\n",
      "+---+-------+--------------+---------+-------+-------+-------+----+--------+---+-----+--------+--------+-----+--------+--------+---------------+--------------------+--------------------+---------+--------------------+---------------+-------------+-------------+---------+-------------+-----------+--------------+---------------------+---------------+------------------+-------------+-------------+-----------+---------------+-------------+--------------+-------------+-------------------+--------------------+--------------------+-----------------+\n",
      "| 19|student|        single|  primary|     no|  103.0|     no|  no|cellular| 10|  jul|   104.0|     2.0| -1.0|     0.0| unknown|            yes|[19.0,104.0,0.0,-...|[0.0,0.0331016219...|     10.0|                 1.0|            2.0|          0.0|          1.0|     28.0|          0.0|        1.0|           0.0|                  1.0|(11,[10],[1.0])|     (2,[1],[1.0])|(3,[2],[1.0])|(1,[0],[1.0])|  (1,[],[])|(30,[28],[1.0])|(2,[0],[1.0])|(11,[1],[1.0])|(3,[0],[1.0])|          (1,[],[])|(65,[10,12,15,16,...|(70,[1,4,15,17,20...|907.0548167274585|\n",
      "| 19|student|        single|  unknown|     no| 1169.0|     no|  no|cellular|  6|  feb|   463.0|    18.0| -1.0|     0.0| unknown|             no|[19.0,463.0,0.0,-...|[0.0,0.1519364448...|     10.0|                 1.0|            3.0|          0.0|          1.0|     10.0|          0.0|        6.0|           0.0|                  0.0|(11,[10],[1.0])|     (2,[1],[1.0])|    (3,[],[])|(1,[0],[1.0])|  (1,[],[])|(30,[10],[1.0])|(2,[0],[1.0])|(11,[6],[1.0])|(3,[0],[1.0])|      (1,[0],[1.0])|(65,[10,12,16,28,...|(70,[1,4,15,17,21...|1319.459913351755|\n",
      "+---+-------+--------------+---------+-------+-------+-------+----+--------+---+-----+--------+--------+-----+--------+--------+---------------+--------------------+--------------------+---------+--------------------+---------------+-------------+-------------+---------+-------------+-----------+--------------+---------------------+---------------+------------------+-------------+-------------+-----------+---------------+-------------+--------------+-------------+-------------------+--------------------+--------------------+-----------------+\n",
      "only showing top 2 rows\n",
      "\n"
     ]
    }
   ],
   "source": [
    "test_predictions_rf.show(2)"
   ]
  },
  {
   "cell_type": "markdown",
   "metadata": {
    "colab_type": "text",
    "id": "mCEiVYXhirFW"
   },
   "source": [
    "#### Evaluation : RF Model"
   ]
  },
  {
   "cell_type": "code",
   "execution_count": 51,
   "metadata": {
    "colab": {
     "base_uri": "https://localhost:8080/",
     "height": 51
    },
    "colab_type": "code",
    "executionInfo": {
     "elapsed": 84136,
     "status": "ok",
     "timestamp": 1577682560245,
     "user": {
      "displayName": "Thomas K John",
      "photoUrl": "",
      "userId": "10832060721107655920"
     },
     "user_tz": -330
    },
    "id": "HBY92pYcirFW",
    "outputId": "d3958ae1-7dca-4830-b55e-062f8f6c9177"
   },
   "outputs": [
    {
     "name": "stdout",
     "output_type": "stream",
     "text": [
      "('RMSE value on Train data is', 2621.0154453397718)\n",
      "('RMSE value on Test data is', 2948.62275606305)\n"
     ]
    }
   ],
   "source": [
    "rfTrain_rmse = evaluator.evaluate(train_predictions_rf)\n",
    "print('RMSE value on Train data is', rfTrain_rmse)\n",
    "\n",
    "rfTest_rmse = evaluator.evaluate(test_predictions_rf)\n",
    "print('RMSE value on Test data is', rfTest_rmse)"
   ]
  },
  {
   "cell_type": "markdown",
   "metadata": {
    "colab_type": "text",
    "id": "0bNTa2wGirFZ"
   },
   "source": [
    "#### Tuning RF Model"
   ]
  },
  {
   "cell_type": "code",
   "execution_count": 0,
   "metadata": {
    "colab": {},
    "colab_type": "code",
    "id": "FeEaG6NhirFa"
   },
   "outputs": [],
   "source": [
    "paramGridRF = ParamGridBuilder()\\\n",
    "            .addGrid(rf.maxDepth, [5])\\\n",
    "            .addGrid(rf.numTrees, [20])\\\n",
    "            .build()\n",
    "    \n",
    "rf_crossval = CrossValidator(estimator=rf_Pipeline,\n",
    "                             estimatorParamMaps=paramGridRF,\n",
    "                             evaluator=RegressionEvaluator(labelCol=\"balance\"),\n",
    "                             numFolds=2)     "
   ]
  },
  {
   "cell_type": "code",
   "execution_count": 0,
   "metadata": {
    "colab": {},
    "colab_type": "code",
    "id": "q16hqjf3irFc"
   },
   "outputs": [],
   "source": [
    "# Run cross-validation, and choose the best set of parameters.\n",
    "rf_crossval_Model = rf_crossval.fit(trainingData)"
   ]
  },
  {
   "cell_type": "code",
   "execution_count": 0,
   "metadata": {
    "colab": {},
    "colab_type": "code",
    "id": "2CbPJLTAirFf"
   },
   "outputs": [],
   "source": [
    "train_predictions_rfcv = rf_crossval_Model.transform(trainingData)\n",
    "test_predictions_rfcv = rf_crossval_Model.transform(testData)"
   ]
  },
  {
   "cell_type": "code",
   "execution_count": 55,
   "metadata": {
    "colab": {
     "base_uri": "https://localhost:8080/",
     "height": 51
    },
    "colab_type": "code",
    "executionInfo": {
     "elapsed": 96344,
     "status": "ok",
     "timestamp": 1577682572487,
     "user": {
      "displayName": "Thomas K John",
      "photoUrl": "",
      "userId": "10832060721107655920"
     },
     "user_tz": -330
    },
    "id": "z1Bia7XairFj",
    "outputId": "98f1446b-cfb1-4e01-fe7d-da63606456aa"
   },
   "outputs": [
    {
     "name": "stdout",
     "output_type": "stream",
     "text": [
      "('RMSE value on Train data is', 2621.0154453397718)\n",
      "('RMSE value on Test data is', 2948.62275606305)\n"
     ]
    }
   ],
   "source": [
    "rfTrain_rmsecv = evaluator.evaluate(train_predictions_rfcv)\n",
    "print('RMSE value on Train data is', rfTrain_rmsecv)\n",
    "\n",
    "rfTest_rmsecv = evaluator.evaluate(test_predictions_rfcv)\n",
    "print('RMSE value on Test data is', rfTest_rmsecv)"
   ]
  },
  {
   "cell_type": "markdown",
   "metadata": {
    "colab_type": "text",
    "id": "bDIcRBj4irFl"
   },
   "source": [
    "#### Gradient Boosted Tree Regressor"
   ]
  },
  {
   "cell_type": "code",
   "execution_count": 0,
   "metadata": {
    "colab": {},
    "colab_type": "code",
    "id": "3GmX4yEWirFl"
   },
   "outputs": [],
   "source": [
    "from pyspark.ml.regression import GBTRegressor\n",
    "\n",
    "gbt = GBTRegressor(labelCol=\"balance\", featuresCol=\"features\")"
   ]
  },
  {
   "cell_type": "code",
   "execution_count": 0,
   "metadata": {
    "colab": {},
    "colab_type": "code",
    "id": "yxjU5iLbirFn"
   },
   "outputs": [],
   "source": [
    "gbt_Pipeline = Pipeline(stages=preprocessiong_Stages+[gbt]) \n",
    "\n",
    "gbt_Pipeline_model = gbt_Pipeline.fit(trainingData)"
   ]
  },
  {
   "cell_type": "code",
   "execution_count": 0,
   "metadata": {
    "colab": {},
    "colab_type": "code",
    "id": "10dmTu9HirFp"
   },
   "outputs": [],
   "source": [
    "train_predictions_gbt = gbt_Pipeline_model.transform(trainingData)\n",
    "test_predictions_gbt = gbt_Pipeline_model.transform(testData)"
   ]
  },
  {
   "cell_type": "code",
   "execution_count": 59,
   "metadata": {
    "colab": {
     "base_uri": "https://localhost:8080/",
     "height": 173
    },
    "colab_type": "code",
    "executionInfo": {
     "elapsed": 107420,
     "status": "ok",
     "timestamp": 1577682583593,
     "user": {
      "displayName": "Thomas K John",
      "photoUrl": "",
      "userId": "10832060721107655920"
     },
     "user_tz": -330
    },
    "id": "Hb8u9W1HirFt",
    "outputId": "7e594f2f-43eb-40eb-ec80-24dfcd920ffc"
   },
   "outputs": [
    {
     "name": "stdout",
     "output_type": "stream",
     "text": [
      "+---+-------+--------------+---------+-------+-------+-------+----+--------+---+-----+--------+--------+-----+--------+--------+---------------+--------------------+--------------------+---------+--------------------+---------------+-------------+-------------+---------+-------------+-----------+--------------+---------------------+---------------+------------------+-------------+-------------+-----------+---------------+-------------+--------------+-------------+-------------------+--------------------+--------------------+------------------+\n",
      "|age|    job|marital_status|education|default|balance|housing|loan| contact|day|month|duration|campaign|pdays|previous|poutcome|Approved_no_yes|        num_features| scaled_num_features|job_index|marital_status_index|education_index|default_index|housing_index|day_index|contact_index|month_index|poutcome_index|Approved_no_yes_index|        job_vec|marital_status_vec|education_vec|  default_vec|housing_vec|        day_vec|  contact_vec|     month_vec| poutcome_vec|Approved_no_yes_vec|        cat_features|            features|        prediction|\n",
      "+---+-------+--------------+---------+-------+-------+-------+----+--------+---+-----+--------+--------+-----+--------+--------+---------------+--------------------+--------------------+---------+--------------------+---------------+-------------+-------------+---------+-------------+-----------+--------------+---------------------+---------------+------------------+-------------+-------------+-----------+---------------+-------------+--------------+-------------+-------------------+--------------------+--------------------+------------------+\n",
      "| 19|student|        single|  primary|     no|  103.0|     no|  no|cellular| 10|  jul|   104.0|     2.0| -1.0|     0.0| unknown|            yes|[19.0,104.0,0.0,-...|[0.0,0.0331016219...|     10.0|                 1.0|            2.0|          0.0|          1.0|     28.0|          0.0|        1.0|           0.0|                  1.0|(11,[10],[1.0])|     (2,[1],[1.0])|(3,[2],[1.0])|(1,[0],[1.0])|  (1,[],[])|(30,[28],[1.0])|(2,[0],[1.0])|(11,[1],[1.0])|(3,[0],[1.0])|          (1,[],[])|(65,[10,12,15,16,...|(70,[1,4,15,17,20...|1409.1299612905736|\n",
      "| 19|student|        single|  unknown|     no| 1169.0|     no|  no|cellular|  6|  feb|   463.0|    18.0| -1.0|     0.0| unknown|             no|[19.0,463.0,0.0,-...|[0.0,0.1519364448...|     10.0|                 1.0|            3.0|          0.0|          1.0|     10.0|          0.0|        6.0|           0.0|                  0.0|(11,[10],[1.0])|     (2,[1],[1.0])|    (3,[],[])|(1,[0],[1.0])|  (1,[],[])|(30,[10],[1.0])|(2,[0],[1.0])|(11,[6],[1.0])|(3,[0],[1.0])|      (1,[0],[1.0])|(65,[10,12,16,28,...|(70,[1,4,15,17,21...| 922.8080581462332|\n",
      "+---+-------+--------------+---------+-------+-------+-------+----+--------+---+-----+--------+--------+-----+--------+--------+---------------+--------------------+--------------------+---------+--------------------+---------------+-------------+-------------+---------+-------------+-----------+--------------+---------------------+---------------+------------------+-------------+-------------+-----------+---------------+-------------+--------------+-------------+-------------------+--------------------+--------------------+------------------+\n",
      "only showing top 2 rows\n",
      "\n"
     ]
    }
   ],
   "source": [
    "test_predictions_gbt.show(2)"
   ]
  },
  {
   "cell_type": "markdown",
   "metadata": {
    "colab_type": "text",
    "id": "qzaIvOb2irFt"
   },
   "source": [
    "#### Evaluation : gbt Model"
   ]
  },
  {
   "cell_type": "code",
   "execution_count": 60,
   "metadata": {
    "colab": {
     "base_uri": "https://localhost:8080/",
     "height": 51
    },
    "colab_type": "code",
    "executionInfo": {
     "elapsed": 107909,
     "status": "ok",
     "timestamp": 1577682584089,
     "user": {
      "displayName": "Thomas K John",
      "photoUrl": "",
      "userId": "10832060721107655920"
     },
     "user_tz": -330
    },
    "id": "gyNNr-yEirFu",
    "outputId": "1b616713-1ee1-4cc2-bcff-700563deb47e"
   },
   "outputs": [
    {
     "name": "stdout",
     "output_type": "stream",
     "text": [
      "('RMSE value on Train data is', 2143.5316176258943)\n",
      "('RMSE value on Test data is', 3007.6400177150217)\n"
     ]
    }
   ],
   "source": [
    "gbtTrain_rmse = evaluator.evaluate(train_predictions_gbt)\n",
    "print('RMSE value on Train data is', gbtTrain_rmse)\n",
    "\n",
    "gbtTest_rmse = evaluator.evaluate(test_predictions_gbt)\n",
    "print('RMSE value on Test data is', gbtTest_rmse)"
   ]
  },
  {
   "cell_type": "markdown",
   "metadata": {
    "colab_type": "text",
    "id": "01kOnHigirFv"
   },
   "source": [
    "#### Tuning GBT Model"
   ]
  },
  {
   "cell_type": "code",
   "execution_count": 0,
   "metadata": {
    "colab": {},
    "colab_type": "code",
    "id": "huEm-jqJirFv"
   },
   "outputs": [],
   "source": [
    "paramGridGBT = ParamGridBuilder()\\\n",
    "            .addGrid(gbt.maxDepth, [5])\\\n",
    "            .addGrid(gbt.maxIter, [15])\\\n",
    "            .addGrid(gbt.stepSize, [0.1])\\\n",
    "            .build()\n",
    "    \n",
    "gbt_crossval = CrossValidator(estimator=gbt_Pipeline,\n",
    "                             estimatorParamMaps=paramGridGBT,\n",
    "                             evaluator=RegressionEvaluator(labelCol=\"balance\"),\n",
    "                             numFolds=2)     "
   ]
  },
  {
   "cell_type": "code",
   "execution_count": 0,
   "metadata": {
    "colab": {},
    "colab_type": "code",
    "id": "xC2AsvX1irFy"
   },
   "outputs": [],
   "source": [
    "# Run cross-validation, and choose the best set of parameters.\n",
    "gbt_crossval_Model = gbt_crossval.fit(trainingData)"
   ]
  },
  {
   "cell_type": "code",
   "execution_count": 0,
   "metadata": {
    "colab": {},
    "colab_type": "code",
    "id": "jj9aJY9rirF1"
   },
   "outputs": [],
   "source": [
    "train_predictions_gbtcv = gbt_crossval_Model.transform(trainingData)\n",
    "test_predictions_gbtcv = gbt_crossval_Model.transform(testData)"
   ]
  },
  {
   "cell_type": "code",
   "execution_count": 64,
   "metadata": {
    "colab": {
     "base_uri": "https://localhost:8080/",
     "height": 51
    },
    "colab_type": "code",
    "executionInfo": {
     "elapsed": 131916,
     "status": "ok",
     "timestamp": 1577682608131,
     "user": {
      "displayName": "Thomas K John",
      "photoUrl": "",
      "userId": "10832060721107655920"
     },
     "user_tz": -330
    },
    "id": "6kC8y_PZirF7",
    "outputId": "1583b53e-f5d0-443e-d052-232d0c948440"
   },
   "outputs": [
    {
     "name": "stdout",
     "output_type": "stream",
     "text": [
      "('RMSE value on Train data is', 2229.1568735597784)\n",
      "('RMSE value on Test data is', 2972.165344298056)\n"
     ]
    }
   ],
   "source": [
    "gbtTrain_rmsecv = evaluator.evaluate(train_predictions_gbtcv)\n",
    "print('RMSE value on Train data is', gbtTrain_rmsecv)\n",
    "\n",
    "gbtTest_rmsecv = evaluator.evaluate(test_predictions_gbtcv)\n",
    "print('RMSE value on Test data is', gbtTest_rmsecv)"
   ]
  }
 ],
 "metadata": {
  "colab": {
   "collapsed_sections": [],
   "name": "Regression_on_BankData.ipynb",
   "provenance": [],
   "toc_visible": true
  },
  "kernelspec": {
   "display_name": "Python 3",
   "language": "python",
   "name": "python3"
  },
  "language_info": {
   "codemirror_mode": {
    "name": "ipython",
    "version": 3
   },
   "file_extension": ".py",
   "mimetype": "text/x-python",
   "name": "python",
   "nbconvert_exporter": "python",
   "pygments_lexer": "ipython3",
   "version": "3.7.0"
  }
 },
 "nbformat": 4,
 "nbformat_minor": 1
}
